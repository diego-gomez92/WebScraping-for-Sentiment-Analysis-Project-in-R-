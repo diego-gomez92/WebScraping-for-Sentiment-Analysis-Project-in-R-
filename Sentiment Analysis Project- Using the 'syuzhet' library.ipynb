{
 "cells": [
  {
   "cell_type": "markdown",
   "metadata": {},
   "source": [
    "# Sentiment Analysis Project: \n",
    " **By Diego Gomez**\n",
    "\n",
    "This project revolves around the sentiment analysis of various forms of text using the 'syuzhet' library in R. The intent is to show the flexibility of sentiment analysis and its applications. Whether it is text from the news, blog, or book, I hope that this project can guide readers to conduct their own sentiment analysis so that they can derive interesting conclusions. \n",
    "\n",
    "Note:\n",
    "You might have to install syuzhet using \"install.packages\""
   ]
  },
  {
   "cell_type": "code",
   "execution_count": 3,
   "metadata": {
    "scrolled": true
   },
   "outputs": [
    {
     "name": "stderr",
     "output_type": "stream",
     "text": [
      "Warning message:\n",
      "\"package 'syuzhet' was built under R version 3.6.3\"\n"
     ]
    }
   ],
   "source": [
    "#install.packages(\"syuzhet\")\n",
    "library(syuzhet)"
   ]
  },
  {
   "cell_type": "markdown",
   "metadata": {},
   "source": [
    "### Simple Sentiment Analysis\n",
    " \n",
    "Note: The following is made up text. Feel free to replace the text with your own. Just be sure to write in complete sentences so that the sentiment analysis can work as designed."
   ]
  },
  {
   "cell_type": "code",
   "execution_count": 4,
   "metadata": {},
   "outputs": [],
   "source": [
    "Example_Text <- \"I begin this story with a neutral statement.  \n",
    "  Basically this is a very silly test.  \n",
    "  You are testing the Syuzhet package using short, inane sentences.  \n",
    "  I am actually very happy today. \n",
    "  I have finally finished writing this package.  \n",
    "  Tomorrow I will be very sad. \n",
    "  I won't have anything left to do. \n",
    "  I might get angry and decide to do something horrible.  \n",
    "  I might destroy the entire package and start from scratch.  \n",
    "  Then again, I might find it satisfying to have completed my first R package. \n",
    "  Honestly this use of the Fourier transformation is really quite elegant.  \n",
    "  You might even say it's beautiful!\""
   ]
  },
  {
   "cell_type": "code",
   "execution_count": 6,
   "metadata": {},
   "outputs": [],
   "source": [
    "#breaks up text into individual sentences \n",
    "sentences <- get_sentences(Example_Text)"
   ]
  },
  {
   "cell_type": "code",
   "execution_count": 7,
   "metadata": {},
   "outputs": [
    {
     "data": {
      "text/html": [
       "<style>\n",
       ".list-inline {list-style: none; margin:0; padding: 0}\n",
       ".list-inline>li {display: inline-block}\n",
       ".list-inline>li:not(:last-child)::after {content: \"\\00b7\"; padding: 0 .5ex}\n",
       "</style>\n",
       "<ol class=list-inline><li>'I begin this story with a neutral statement.'</li><li>'Basically this is a very silly test.'</li><li>'You are testing the Syuzhet package using short, inane sentences.'</li><li>'I am actually very happy today.'</li><li>'I have finally finished writing this package.'</li><li>'Tomorrow I will be very sad.'</li><li>'I won\\'t have anything left to do.'</li><li>'I might get angry and decide to do something horrible.'</li><li>'I might destroy the entire package and start from scratch.'</li><li>'Then again, I might find it satisfying to have completed my first R package.'</li><li>'Honestly this use of the Fourier transformation is really quite elegant.'</li><li>'You might even say it\\'s beautiful!'</li></ol>\n"
      ],
      "text/latex": [
       "\\begin{enumerate*}\n",
       "\\item 'I begin this story with a neutral statement.'\n",
       "\\item 'Basically this is a very silly test.'\n",
       "\\item 'You are testing the Syuzhet package using short, inane sentences.'\n",
       "\\item 'I am actually very happy today.'\n",
       "\\item 'I have finally finished writing this package.'\n",
       "\\item 'Tomorrow I will be very sad.'\n",
       "\\item 'I won\\textbackslash{}'t have anything left to do.'\n",
       "\\item 'I might get angry and decide to do something horrible.'\n",
       "\\item 'I might destroy the entire package and start from scratch.'\n",
       "\\item 'Then again, I might find it satisfying to have completed my first R package.'\n",
       "\\item 'Honestly this use of the Fourier transformation is really quite elegant.'\n",
       "\\item 'You might even say it\\textbackslash{}'s beautiful!'\n",
       "\\end{enumerate*}\n"
      ],
      "text/markdown": [
       "1. 'I begin this story with a neutral statement.'\n",
       "2. 'Basically this is a very silly test.'\n",
       "3. 'You are testing the Syuzhet package using short, inane sentences.'\n",
       "4. 'I am actually very happy today.'\n",
       "5. 'I have finally finished writing this package.'\n",
       "6. 'Tomorrow I will be very sad.'\n",
       "7. 'I won\\'t have anything left to do.'\n",
       "8. 'I might get angry and decide to do something horrible.'\n",
       "9. 'I might destroy the entire package and start from scratch.'\n",
       "10. 'Then again, I might find it satisfying to have completed my first R package.'\n",
       "11. 'Honestly this use of the Fourier transformation is really quite elegant.'\n",
       "12. 'You might even say it\\'s beautiful!'\n",
       "\n",
       "\n"
      ],
      "text/plain": [
       " [1] \"I begin this story with a neutral statement.\"                                \n",
       " [2] \"Basically this is a very silly test.\"                                        \n",
       " [3] \"You are testing the Syuzhet package using short, inane sentences.\"           \n",
       " [4] \"I am actually very happy today.\"                                             \n",
       " [5] \"I have finally finished writing this package.\"                               \n",
       " [6] \"Tomorrow I will be very sad.\"                                                \n",
       " [7] \"I won't have anything left to do.\"                                           \n",
       " [8] \"I might get angry and decide to do something horrible.\"                      \n",
       " [9] \"I might destroy the entire package and start from scratch.\"                  \n",
       "[10] \"Then again, I might find it satisfying to have completed my first R package.\"\n",
       "[11] \"Honestly this use of the Fourier transformation is really quite elegant.\"    \n",
       "[12] \"You might even say it's beautiful!\"                                          "
      ]
     },
     "metadata": {},
     "output_type": "display_data"
    }
   ],
   "source": [
    "sentences"
   ]
  },
  {
   "cell_type": "code",
   "execution_count": 8,
   "metadata": {},
   "outputs": [],
   "source": [
    "#gets sentiment for each sentence\n",
    "syuzhet_vector <- get_sentiment(sentences, method=\"syuzhet\")"
   ]
  },
  {
   "cell_type": "code",
   "execution_count": 9,
   "metadata": {},
   "outputs": [
    {
     "data": {
      "text/html": [
       "<style>\n",
       ".list-inline {list-style: none; margin:0; padding: 0}\n",
       ".list-inline>li {display: inline-block}\n",
       ".list-inline>li:not(:last-child)::after {content: \"\\00b7\"; padding: 0 .5ex}\n",
       "</style>\n",
       "<ol class=list-inline><li>0</li><li>-0.25</li><li>-0.5</li><li>0.75</li><li>0.4</li><li>-0.5</li><li>0</li><li>-1.5</li><li>-1.1</li><li>1</li><li>1</li><li>0.75</li></ol>\n"
      ],
      "text/latex": [
       "\\begin{enumerate*}\n",
       "\\item 0\n",
       "\\item -0.25\n",
       "\\item -0.5\n",
       "\\item 0.75\n",
       "\\item 0.4\n",
       "\\item -0.5\n",
       "\\item 0\n",
       "\\item -1.5\n",
       "\\item -1.1\n",
       "\\item 1\n",
       "\\item 1\n",
       "\\item 0.75\n",
       "\\end{enumerate*}\n"
      ],
      "text/markdown": [
       "1. 0\n",
       "2. -0.25\n",
       "3. -0.5\n",
       "4. 0.75\n",
       "5. 0.4\n",
       "6. -0.5\n",
       "7. 0\n",
       "8. -1.5\n",
       "9. -1.1\n",
       "10. 1\n",
       "11. 1\n",
       "12. 0.75\n",
       "\n",
       "\n"
      ],
      "text/plain": [
       " [1]  0.00 -0.25 -0.50  0.75  0.40 -0.50  0.00 -1.50 -1.10  1.00  1.00  0.75"
      ]
     },
     "metadata": {},
     "output_type": "display_data"
    }
   ],
   "source": [
    "syuzhet_vector"
   ]
  },
  {
   "cell_type": "markdown",
   "metadata": {},
   "source": [
    "Interpretation: \n",
    "The vector above gives a sentiment score for each of the sentences. Negative scores indicate a negative sentiment while positive scores indicate a positive sentiment. "
   ]
  },
  {
   "cell_type": "markdown",
   "metadata": {},
   "source": [
    "#### Plotting the Sentiment"
   ]
  },
  {
   "cell_type": "markdown",
   "metadata": {},
   "source": [
    "Let us plot the sentiment of the sentences to get an idea about how the sentiment changes from sentence to sentence. "
   ]
  },
  {
   "cell_type": "code",
   "execution_count": 11,
   "metadata": {},
   "outputs": [
    {
     "data": {
      "image/png": "[encoded data removed]",
      "text/plain": [
       "plot without title"
      ]
     },
     "metadata": {
      "image/png": {
       "height": 420,
       "width": 420
      },
      "text/plain": {
       "height": 420,
       "width": 420
      }
     },
     "output_type": "display_data"
    }
   ],
   "source": [
    "plot(syuzhet_vector,type=\"l\")"
   ]
  },
  {
   "cell_type": "markdown",
   "metadata": {},
   "source": [
    "#### Let us get the Valence and Emotions expressed in each sentence using get_nrc_sentiment()"
   ]
  },
  {
   "cell_type": "code",
   "execution_count": 14,
   "metadata": {},
   "outputs": [
    {
     "data": {
      "text/html": [
       "'data.frame'"
      ],
      "text/latex": [
       "'data.frame'"
      ],
      "text/markdown": [
       "'data.frame'"
      ],
      "text/plain": [
       "[1] \"data.frame\""
      ]
     },
     "metadata": {},
     "output_type": "display_data"
    }
   ],
   "source": [
    "class(get_nrc_sentiment(sentences))"
   ]
  },
  {
   "cell_type": "code",
   "execution_count": 20,
   "metadata": {
    "scrolled": false
   },
   "outputs": [
    {
     "data": {
      "text/html": [
       "<table>\n",
       "<caption>A data.frame: 12 × 10</caption>\n",
       "<thead>\n",
       "\t<tr><th scope=col>anger</th><th scope=col>anticipation</th><th scope=col>disgust</th><th scope=col>fear</th><th scope=col>joy</th><th scope=col>sadness</th><th scope=col>surprise</th><th scope=col>trust</th><th scope=col>negative</th><th scope=col>positive</th></tr>\n",
       "\t<tr><th scope=col>&lt;dbl&gt;</th><th scope=col>&lt;dbl&gt;</th><th scope=col>&lt;dbl&gt;</th><th scope=col>&lt;dbl&gt;</th><th scope=col>&lt;dbl&gt;</th><th scope=col>&lt;dbl&gt;</th><th scope=col>&lt;dbl&gt;</th><th scope=col>&lt;dbl&gt;</th><th scope=col>&lt;dbl&gt;</th><th scope=col>&lt;dbl&gt;</th></tr>\n",
       "</thead>\n",
       "<tbody>\n",
       "\t<tr><td>0</td><td>1</td><td>0</td><td>0</td><td>0</td><td>0</td><td>0</td><td>2</td><td>0</td><td>1</td></tr>\n",
       "\t<tr><td>0</td><td>0</td><td>0</td><td>0</td><td>1</td><td>0</td><td>0</td><td>0</td><td>1</td><td>0</td></tr>\n",
       "\t<tr><td>0</td><td>0</td><td>0</td><td>0</td><td>0</td><td>0</td><td>0</td><td>0</td><td>1</td><td>0</td></tr>\n",
       "\t<tr><td>0</td><td>1</td><td>0</td><td>0</td><td>1</td><td>0</td><td>0</td><td>1</td><td>0</td><td>1</td></tr>\n",
       "\t<tr><td>0</td><td>1</td><td>1</td><td>0</td><td>1</td><td>0</td><td>1</td><td>1</td><td>0</td><td>1</td></tr>\n",
       "\t<tr><td>0</td><td>1</td><td>0</td><td>0</td><td>0</td><td>0</td><td>0</td><td>0</td><td>0</td><td>0</td></tr>\n",
       "\t<tr><td>0</td><td>0</td><td>0</td><td>0</td><td>0</td><td>0</td><td>0</td><td>0</td><td>0</td><td>0</td></tr>\n",
       "\t<tr><td>2</td><td>0</td><td>2</td><td>1</td><td>0</td><td>0</td><td>0</td><td>0</td><td>2</td><td>0</td></tr>\n",
       "\t<tr><td>0</td><td>1</td><td>0</td><td>0</td><td>0</td><td>0</td><td>0</td><td>0</td><td>0</td><td>0</td></tr>\n",
       "\t<tr><td>0</td><td>0</td><td>0</td><td>0</td><td>0</td><td>0</td><td>0</td><td>0</td><td>0</td><td>0</td></tr>\n",
       "\t<tr><td>0</td><td>0</td><td>0</td><td>0</td><td>1</td><td>0</td><td>0</td><td>0</td><td>0</td><td>1</td></tr>\n",
       "\t<tr><td>0</td><td>0</td><td>0</td><td>0</td><td>1</td><td>0</td><td>0</td><td>0</td><td>0</td><td>1</td></tr>\n",
       "</tbody>\n",
       "</table>\n"
      ],
      "text/latex": [
       "A data.frame: 12 × 10\n",
       "\\begin{tabular}{llllllllll}\n",
       " anger & anticipation & disgust & fear & joy & sadness & surprise & trust & negative & positive\\\\\n",
       " <dbl> & <dbl> & <dbl> & <dbl> & <dbl> & <dbl> & <dbl> & <dbl> & <dbl> & <dbl>\\\\\n",
       "\\hline\n",
       "\t 0 & 1 & 0 & 0 & 0 & 0 & 0 & 2 & 0 & 1\\\\\n",
       "\t 0 & 0 & 0 & 0 & 1 & 0 & 0 & 0 & 1 & 0\\\\\n",
       "\t 0 & 0 & 0 & 0 & 0 & 0 & 0 & 0 & 1 & 0\\\\\n",
       "\t 0 & 1 & 0 & 0 & 1 & 0 & 0 & 1 & 0 & 1\\\\\n",
       "\t 0 & 1 & 1 & 0 & 1 & 0 & 1 & 1 & 0 & 1\\\\\n",
       "\t 0 & 1 & 0 & 0 & 0 & 0 & 0 & 0 & 0 & 0\\\\\n",
       "\t 0 & 0 & 0 & 0 & 0 & 0 & 0 & 0 & 0 & 0\\\\\n",
       "\t 2 & 0 & 2 & 1 & 0 & 0 & 0 & 0 & 2 & 0\\\\\n",
       "\t 0 & 1 & 0 & 0 & 0 & 0 & 0 & 0 & 0 & 0\\\\\n",
       "\t 0 & 0 & 0 & 0 & 0 & 0 & 0 & 0 & 0 & 0\\\\\n",
       "\t 0 & 0 & 0 & 0 & 1 & 0 & 0 & 0 & 0 & 1\\\\\n",
       "\t 0 & 0 & 0 & 0 & 1 & 0 & 0 & 0 & 0 & 1\\\\\n",
       "\\end{tabular}\n"
      ],
      "text/markdown": [
       "\n",
       "A data.frame: 12 × 10\n",
       "\n",
       "| anger &lt;dbl&gt; | anticipation &lt;dbl&gt; | disgust &lt;dbl&gt; | fear &lt;dbl&gt; | joy &lt;dbl&gt; | sadness &lt;dbl&gt; | surprise &lt;dbl&gt; | trust &lt;dbl&gt; | negative &lt;dbl&gt; | positive &lt;dbl&gt; |\n",
       "|---|---|---|---|---|---|---|---|---|---|\n",
       "| 0 | 1 | 0 | 0 | 0 | 0 | 0 | 2 | 0 | 1 |\n",
       "| 0 | 0 | 0 | 0 | 1 | 0 | 0 | 0 | 1 | 0 |\n",
       "| 0 | 0 | 0 | 0 | 0 | 0 | 0 | 0 | 1 | 0 |\n",
       "| 0 | 1 | 0 | 0 | 1 | 0 | 0 | 1 | 0 | 1 |\n",
       "| 0 | 1 | 1 | 0 | 1 | 0 | 1 | 1 | 0 | 1 |\n",
       "| 0 | 1 | 0 | 0 | 0 | 0 | 0 | 0 | 0 | 0 |\n",
       "| 0 | 0 | 0 | 0 | 0 | 0 | 0 | 0 | 0 | 0 |\n",
       "| 2 | 0 | 2 | 1 | 0 | 0 | 0 | 0 | 2 | 0 |\n",
       "| 0 | 1 | 0 | 0 | 0 | 0 | 0 | 0 | 0 | 0 |\n",
       "| 0 | 0 | 0 | 0 | 0 | 0 | 0 | 0 | 0 | 0 |\n",
       "| 0 | 0 | 0 | 0 | 1 | 0 | 0 | 0 | 0 | 1 |\n",
       "| 0 | 0 | 0 | 0 | 1 | 0 | 0 | 0 | 0 | 1 |\n",
       "\n"
      ],
      "text/plain": [
       "   anger anticipation disgust fear joy sadness surprise trust negative positive\n",
       "1  0     1            0       0    0   0       0        2     0        1       \n",
       "2  0     0            0       0    1   0       0        0     1        0       \n",
       "3  0     0            0       0    0   0       0        0     1        0       \n",
       "4  0     1            0       0    1   0       0        1     0        1       \n",
       "5  0     1            1       0    1   0       1        1     0        1       \n",
       "6  0     1            0       0    0   0       0        0     0        0       \n",
       "7  0     0            0       0    0   0       0        0     0        0       \n",
       "8  2     0            2       1    0   0       0        0     2        0       \n",
       "9  0     1            0       0    0   0       0        0     0        0       \n",
       "10 0     0            0       0    0   0       0        0     0        0       \n",
       "11 0     0            0       0    1   0       0        0     0        1       \n",
       "12 0     0            0       0    1   0       0        0     0        1       "
      ]
     },
     "metadata": {},
     "output_type": "display_data"
    }
   ],
   "source": [
    "#data frame with the valence and emotions expressed in each of the sentences\n",
    "sent_val <- get_nrc_sentiment(sentences)\n",
    "sent_val"
   ]
  },
  {
   "cell_type": "code",
   "execution_count": 17,
   "metadata": {},
   "outputs": [
    {
     "data": {
      "text/html": [
       "0.0833333333333333"
      ],
      "text/latex": [
       "0.0833333333333333"
      ],
      "text/markdown": [
       "0.0833333333333333"
      ],
      "text/plain": [
       "[1] 0.08333333"
      ]
     },
     "metadata": {},
     "output_type": "display_data"
    }
   ],
   "source": [
    "#get overall sentiment rating; it appears passage is slightly positive\n",
    "mean(sent_valence$positive - sent_valence$negative)"
   ]
  },
  {
   "cell_type": "code",
   "execution_count": 21,
   "metadata": {},
   "outputs": [
    {
     "data": {
      "text/html": [
       "<table>\n",
       "<caption>A data.frame: 1 × 10</caption>\n",
       "<thead>\n",
       "\t<tr><th></th><th scope=col>anger</th><th scope=col>anticipation</th><th scope=col>disgust</th><th scope=col>fear</th><th scope=col>joy</th><th scope=col>sadness</th><th scope=col>surprise</th><th scope=col>trust</th><th scope=col>negative</th><th scope=col>positive</th></tr>\n",
       "\t<tr><th></th><th scope=col>&lt;dbl&gt;</th><th scope=col>&lt;dbl&gt;</th><th scope=col>&lt;dbl&gt;</th><th scope=col>&lt;dbl&gt;</th><th scope=col>&lt;dbl&gt;</th><th scope=col>&lt;dbl&gt;</th><th scope=col>&lt;dbl&gt;</th><th scope=col>&lt;dbl&gt;</th><th scope=col>&lt;dbl&gt;</th><th scope=col>&lt;dbl&gt;</th></tr>\n",
       "</thead>\n",
       "<tbody>\n",
       "\t<tr><th scope=row>8</th><td>2</td><td>0</td><td>2</td><td>1</td><td>0</td><td>0</td><td>0</td><td>0</td><td>2</td><td>0</td></tr>\n",
       "</tbody>\n",
       "</table>\n"
      ],
      "text/latex": [
       "A data.frame: 1 × 10\n",
       "\\begin{tabular}{r|llllllllll}\n",
       "  & anger & anticipation & disgust & fear & joy & sadness & surprise & trust & negative & positive\\\\\n",
       "  & <dbl> & <dbl> & <dbl> & <dbl> & <dbl> & <dbl> & <dbl> & <dbl> & <dbl> & <dbl>\\\\\n",
       "\\hline\n",
       "\t8 & 2 & 0 & 2 & 1 & 0 & 0 & 0 & 0 & 2 & 0\\\\\n",
       "\\end{tabular}\n"
      ],
      "text/markdown": [
       "\n",
       "A data.frame: 1 × 10\n",
       "\n",
       "| <!--/--> | anger &lt;dbl&gt; | anticipation &lt;dbl&gt; | disgust &lt;dbl&gt; | fear &lt;dbl&gt; | joy &lt;dbl&gt; | sadness &lt;dbl&gt; | surprise &lt;dbl&gt; | trust &lt;dbl&gt; | negative &lt;dbl&gt; | positive &lt;dbl&gt; |\n",
       "|---|---|---|---|---|---|---|---|---|---|---|\n",
       "| 8 | 2 | 0 | 2 | 1 | 0 | 0 | 0 | 0 | 2 | 0 |\n",
       "\n"
      ],
      "text/plain": [
       "  anger anticipation disgust fear joy sadness surprise trust negative positive\n",
       "8 2     0            2       1    0   0       0        0     2        0       "
      ]
     },
     "metadata": {},
     "output_type": "display_data"
    }
   ],
   "source": [
    "#get index of sentences where anger greater than 0\n",
    "ns[sent_valence$anger > 0,]"
   ]
  },
  {
   "cell_type": "code",
   "execution_count": 22,
   "metadata": {},
   "outputs": [
    {
     "data": {
      "text/html": [
       "'I might get angry and decide to do something horrible.'"
      ],
      "text/latex": [
       "'I might get angry and decide to do something horrible.'"
      ],
      "text/markdown": [
       "'I might get angry and decide to do something horrible.'"
      ],
      "text/plain": [
       "[1] \"I might get angry and decide to do something horrible.\""
      ]
     },
     "metadata": {},
     "output_type": "display_data"
    }
   ],
   "source": [
    "#lets look at that sentence to determine accuracy \n",
    "sentences[8]"
   ]
  },
  {
   "attachments": {},
   "cell_type": "markdown",
   "metadata": {},
   "source": [
    "## Wildfires News Report (NBCNEWS) Sentiment Analysis\n",
    "\n",
    "The following is the content of a news article about California wildfires. Feel free to follow the link for more details.\n",
    "\n",
    "https://www.nbcnews.com/storyline/western-wildfires/one-killed-major-wildfires-ignite-overnight-across-northern-california-n809206"
   ]
  },
  {
   "cell_type": "code",
   "execution_count": 23,
   "metadata": {},
   "outputs": [],
   "source": [
    "fire_report <- \" LOS ANGELES — Fierce wildfires whipping up nightmare conditions in Northern California have killed at least 15 people, destroyed more than 1,500 structures and turned wineries into charred wastelands.\n",
    "\n",
    "The death toll continued to climb Tuesday as fire crews battled at least 17 large fires, while more than 20,000 people in the paths of the fast-moving infernos fled their homes, the California Department of Forestry and Fire Protection, or Cal Fire, said. In all, more than 115,000 acres have burned since the weekend, officials added.\n",
    "\n",
    "Firefighters were counting on cooler weather and weakening winds to help in their fight.\n",
    "\n",
    "With increased resources headed to the region, hopefully we'll start seeing some turnaround throughout the course of today and into tomorrow, Scott McLean, deputy chief of Cal Fire, said Tuesday on TODAY.\n",
    "[Massive wildfires ravage Northern California, killing at least 11]\n",
    "Massive wildfires ravage Northern California, killing at least 11 2:39\n",
    "\n",
    "Gov. Jerry Brown declared an emergency in the affected counties, which include Napa and Sonoma, and the Federal Emergency Management Agency agreed to the state's request for federal funds to help the fires, the Department of Homeland Security said.\n",
    "\n",
    "In Sonoma County, officials said they had received about 200 phone calls to its missing persons hotline, although they believe some could be duplicates. About 45 of the missing had been located as of Tuesday afternoon, according to Sonoma County spokeswoman Maggie Fleming.\n",
    "\n",
    "Resident Marian Williams of Kenwood, in Sonoma County, told NBC Bay Area that she joined a caravan of neighbors driving through the flames before dawn as one of the fires reached the area's vineyards.\n",
    "\n",
    "It was an inferno like you've never seen before, Williams told the station.\n",
    "\n",
    "The 15 wildfires — which also engulfed a hotel and a trailer park in the city of Santa Rosa and sent smoke spewing as far south as San Francisco — have collectively become among the deadliest in California's history.\n",
    "\n",
    "Photos: Massive Wildfires Consume Homes Across Northern California\n",
    "\n",
    "At least nine people were killed in Sonoma County in fire-related incidents — and that number's going to change, warned Sheriff Rob Giordano of Sonoma County.\n",
    "\n",
    "Cal Fire confirmed that three people had been killed in Mendocino County and two people in Napa County. They were identified by NBC Bay Area as 100-year-old Charlie Rippey, a World War II veteran, and his 98-year-old wife, Sara.\n",
    "\n",
    "Their son, Chuck Rippey, told the station that their caregiver contacted him as the fire closed in and said his parents were still inside the Silverado Golf Course home they had lived in for the past 40 years.\n",
    "\n",
    "The caregiver called and said there's fire everywhere, Chuck Rippey said. I said get these guys out on the street, and before she knew it, the roof was caving in very fast.\n",
    "\n",
    "Another fire-related death was confirmed in Yuba Country.\n",
    "\n",
    "Mark Ghilarducci, director of the state Office of Emergency Services, agreed Monday that other deaths were likely across the region. Since the fires were moving so rapidly, he added, authorities were still trying to get our hands around the full extent of the damage and casualties.\n",
    "\n",
    "Cal Fire Director Ken Pimlott said that many other people had been injured and that an undetermined number were missing.\n",
    "\n",
    "Firefighters were also contending with strong winds fueling the flames, although the roaring gusts that reached between 35 to 50 mph were expected to weaken to about 20 mph by Tuesday afternoon.\n",
    "\n",
    "All of California faces a renewed threat from dangerous weather conditions Wednesday that could spark wildfires, including the return of strong, offshore winds and lower humidity.\n",
    "\n",
    "Pacific Gas & Electric said more than 94,000 customers were without power as of Tuesday morning, most of them in the North Bay Division and Sonoma area. Gas service was shut off to 30,000 customers, it said. The California Highway Patrol said it had rescued 44 people by helicopter.\n",
    "\n",
    "All of the new fires started after 10 p.m. PT (1 a.m. ET) on Sunday, Pimlott said.\n",
    "\n",
    "McClean said investigators were still trying to determine the origin of the blazes and called it a meticulous process.\n",
    "Image: A helicopter drops water on a wind-driven wildfire\n",
    "A helicopter drops water on a wind-driven wildfire in Orange, California on Monday. Mike Blake / Reuters\n",
    "\n",
    "Californians are pushing their way through a phenomenon called the Santa Ana winds — powerful systems that start inland and almost always blast hot, extremely dry air across Northern California and the southern California coast.\n",
    "\n",
    "The hot, dry blasts are sometimes called los diablos, or the devil winds, and they often create critical fire conditions.\n",
    "\n",
    "Every spark is going to ignite a fire, Pimlott said. The planets literally aligned to have this explosive state.\n",
    "\n",
    "At least 1,500 homes and commercial structures were destroyed in the region in just 12 hours, authorities said.\n",
    "\n",
    "Cal Fire Deputy Chief Bret Gouvea, commander of the unified response team, described a simultaneous eruption of large fires that were all wind driven, with winds up to 50 miles per hour, in seven counties.\n",
    "\n",
    "Sometimes we get away with these wind events, and other times we get caught, he said.\n",
    "\n",
    "Capt. Craig Schwartz, acting chief of the Santa Rosa police, said evacuation efforts were continuing. Officers were going in and reporting that they were having a hard time getting out, he said.\n",
    "Image: Michael Pond, left, looks through ashes as his wife Kristine, center, gets a hug from Zack Thurston\n",
    "Michael Pond, left, looks through ashes as his wife Kristine, center, gets a hug from Zack Thurston, their daughter's boyfriend, while they search the remains of their home destroyed by fire on Monday. Jeff Chiu / AP\n",
    "\n",
    "Brown said Monday night that authorities anticipate more destruction, both to homes and public infrastructure. The governor added that officials would continue to do preliminary damage assessments as soon as conditions permit access.\n",
    "\n",
    "Santa Rosa Fire Chief Tony Gossner said that the flames in Sonoma County came in very, very hard, and that they drained our resources very quickly.\n",
    "\n",
    "But Northern California wasn't the only part of the state inundated by infernos.\n",
    "\n",
    "The Canyon Fire 2 wildfire was scorching rugged terrain in Anaheim Hills in Orange County, about 40 miles southeast of Los Angeles. More than 7,500 acres were burned by early Tuesday, fire officials said, and at least 24 structures were destroyed with another 5,000 threatened.\n",
    "\n",
    "Photos: Orange Skies Shroud Disneyland as Wildfires Loom\n",
    "\n",
    "The officials warned that the thousands of homeowners in evacuation zones won't be allowed to return until the fire was solidly contained, but strong onshore winds could hamper the fight. Evacuation shelters were set up Monday and Tuesday in nearby communities, including the city of Anaheim, where Disneyland is.\n",
    "\n",
    "The wildfire — the biggest in the county in nearly a decade — cast an eerie orange glow in the sky above the theme park, which remained open.\n",
    "\n",
    "The hillside was on fire, Anaheim Hills resident John Teague told NBC Los Angeles. I've never seen anything like this. \""
   ]
  },
  {
   "cell_type": "code",
   "execution_count": 24,
   "metadata": {},
   "outputs": [],
   "source": [
    "#break up into sentences\n",
    "fire_sentences <- get_sentences(fire_report)"
   ]
  },
  {
   "cell_type": "code",
   "execution_count": 26,
   "metadata": {},
   "outputs": [],
   "source": [
    "fitre_sentiment <- get_sentiment(fire_sentences)"
   ]
  },
  {
   "cell_type": "code",
   "execution_count": 27,
   "metadata": {},
   "outputs": [
    {
     "data": {
      "text/plain": [
       "   Min. 1st Qu.  Median    Mean 3rd Qu.    Max. \n",
       "-2.6500 -0.7500 -0.2500 -0.4206  0.0000  1.1000 "
      ]
     },
     "metadata": {},
     "output_type": "display_data"
    }
   ],
   "source": [
    "#get sentiment summary of basic sentiment analysis\n",
    "summary(fitre_sentiment)"
   ]
  },
  {
   "cell_type": "code",
   "execution_count": 29,
   "metadata": {},
   "outputs": [
    {
     "data": {
      "text/html": [
       "<table>\n",
       "<caption>A data.frame: 6 × 10</caption>\n",
       "<thead>\n",
       "\t<tr><th></th><th scope=col>anger</th><th scope=col>anticipation</th><th scope=col>disgust</th><th scope=col>fear</th><th scope=col>joy</th><th scope=col>sadness</th><th scope=col>surprise</th><th scope=col>trust</th><th scope=col>negative</th><th scope=col>positive</th></tr>\n",
       "\t<tr><th></th><th scope=col>&lt;dbl&gt;</th><th scope=col>&lt;dbl&gt;</th><th scope=col>&lt;dbl&gt;</th><th scope=col>&lt;dbl&gt;</th><th scope=col>&lt;dbl&gt;</th><th scope=col>&lt;dbl&gt;</th><th scope=col>&lt;dbl&gt;</th><th scope=col>&lt;dbl&gt;</th><th scope=col>&lt;dbl&gt;</th><th scope=col>&lt;dbl&gt;</th></tr>\n",
       "</thead>\n",
       "<tbody>\n",
       "\t<tr><th scope=row>1</th><td>2</td><td>0</td><td>1</td><td>3</td><td>0</td><td>1</td><td>0</td><td>0</td><td>3</td><td>0</td></tr>\n",
       "\t<tr><th scope=row>2</th><td>2</td><td>1</td><td>1</td><td>4</td><td>0</td><td>2</td><td>1</td><td>0</td><td>2</td><td>0</td></tr>\n",
       "\t<tr><th scope=row>3</th><td>0</td><td>0</td><td>0</td><td>0</td><td>0</td><td>0</td><td>0</td><td>0</td><td>0</td><td>0</td></tr>\n",
       "\t<tr><th scope=row>4</th><td>1</td><td>0</td><td>0</td><td>1</td><td>0</td><td>0</td><td>0</td><td>0</td><td>1</td><td>0</td></tr>\n",
       "\t<tr><th scope=row>5</th><td>1</td><td>2</td><td>0</td><td>3</td><td>1</td><td>2</td><td>1</td><td>4</td><td>2</td><td>4</td></tr>\n",
       "\t<tr><th scope=row>6</th><td>0</td><td>1</td><td>0</td><td>1</td><td>0</td><td>1</td><td>0</td><td>2</td><td>2</td><td>1</td></tr>\n",
       "</tbody>\n",
       "</table>\n"
      ],
      "text/latex": [
       "A data.frame: 6 × 10\n",
       "\\begin{tabular}{r|llllllllll}\n",
       "  & anger & anticipation & disgust & fear & joy & sadness & surprise & trust & negative & positive\\\\\n",
       "  & <dbl> & <dbl> & <dbl> & <dbl> & <dbl> & <dbl> & <dbl> & <dbl> & <dbl> & <dbl>\\\\\n",
       "\\hline\n",
       "\t1 & 2 & 0 & 1 & 3 & 0 & 1 & 0 & 0 & 3 & 0\\\\\n",
       "\t2 & 2 & 1 & 1 & 4 & 0 & 2 & 1 & 0 & 2 & 0\\\\\n",
       "\t3 & 0 & 0 & 0 & 0 & 0 & 0 & 0 & 0 & 0 & 0\\\\\n",
       "\t4 & 1 & 0 & 0 & 1 & 0 & 0 & 0 & 0 & 1 & 0\\\\\n",
       "\t5 & 1 & 2 & 0 & 3 & 1 & 2 & 1 & 4 & 2 & 4\\\\\n",
       "\t6 & 0 & 1 & 0 & 1 & 0 & 1 & 0 & 2 & 2 & 1\\\\\n",
       "\\end{tabular}\n"
      ],
      "text/markdown": [
       "\n",
       "A data.frame: 6 × 10\n",
       "\n",
       "| <!--/--> | anger &lt;dbl&gt; | anticipation &lt;dbl&gt; | disgust &lt;dbl&gt; | fear &lt;dbl&gt; | joy &lt;dbl&gt; | sadness &lt;dbl&gt; | surprise &lt;dbl&gt; | trust &lt;dbl&gt; | negative &lt;dbl&gt; | positive &lt;dbl&gt; |\n",
       "|---|---|---|---|---|---|---|---|---|---|---|\n",
       "| 1 | 2 | 0 | 1 | 3 | 0 | 1 | 0 | 0 | 3 | 0 |\n",
       "| 2 | 2 | 1 | 1 | 4 | 0 | 2 | 1 | 0 | 2 | 0 |\n",
       "| 3 | 0 | 0 | 0 | 0 | 0 | 0 | 0 | 0 | 0 | 0 |\n",
       "| 4 | 1 | 0 | 0 | 1 | 0 | 0 | 0 | 0 | 1 | 0 |\n",
       "| 5 | 1 | 2 | 0 | 3 | 1 | 2 | 1 | 4 | 2 | 4 |\n",
       "| 6 | 0 | 1 | 0 | 1 | 0 | 1 | 0 | 2 | 2 | 1 |\n",
       "\n"
      ],
      "text/plain": [
       "  anger anticipation disgust fear joy sadness surprise trust negative positive\n",
       "1 2     0            1       3    0   1       0        0     3        0       \n",
       "2 2     1            1       4    0   2       1        0     2        0       \n",
       "3 0     0            0       0    0   0       0        0     0        0       \n",
       "4 1     0            0       1    0   0       0        0     1        0       \n",
       "5 1     2            0       3    1   2       1        4     2        4       \n",
       "6 0     1            0       1    0   1       0        2     2        1       "
      ]
     },
     "metadata": {},
     "output_type": "display_data"
    }
   ],
   "source": [
    "#let us look at what emotions are expressed \n",
    "fire_sent_nrc <- get_nrc_sentiment(fire_sentences)\n",
    "head(fire_sent_nrc)"
   ]
  },
  {
   "cell_type": "code",
   "execution_count": 43,
   "metadata": {},
   "outputs": [
    {
     "data": {
      "text/html": [
       "-0.215686274509804"
      ],
      "text/latex": [
       "-0.215686274509804"
      ],
      "text/markdown": [
       "-0.215686274509804"
      ],
      "text/plain": [
       "[1] -0.2156863"
      ]
     },
     "metadata": {},
     "output_type": "display_data"
    }
   ],
   "source": [
    "#get the mean difference between negative and positve sentiment\n",
    "mean(fire_sent_nrc$positive - fire_sent_nrc$negative)"
   ]
  },
  {
   "cell_type": "markdown",
   "metadata": {},
   "source": [
    "According to the mean difference above, the article is more negative than positve."
   ]
  },
  {
   "cell_type": "code",
   "execution_count": 31,
   "metadata": {},
   "outputs": [
    {
     "data": {
      "text/plain": [
       "     anger         anticipation       disgust            fear      \n",
       " Min.   :0.0000   Min.   :0.0000   Min.   :0.0000   Min.   :0.000  \n",
       " 1st Qu.:0.0000   1st Qu.:0.0000   1st Qu.:0.0000   1st Qu.:0.000  \n",
       " Median :0.0000   Median :0.0000   Median :0.0000   Median :1.000  \n",
       " Mean   :0.4902   Mean   :0.3725   Mean   :0.1961   Mean   :1.078  \n",
       " 3rd Qu.:1.0000   3rd Qu.:1.0000   3rd Qu.:0.0000   3rd Qu.:2.000  \n",
       " Max.   :3.0000   Max.   :2.0000   Max.   :1.0000   Max.   :4.000  \n",
       "      joy            sadness          surprise          trust       \n",
       " Min.   :0.0000   Min.   :0.0000   Min.   :0.0000   Min.   :0.0000  \n",
       " 1st Qu.:0.0000   1st Qu.:0.0000   1st Qu.:0.0000   1st Qu.:0.0000  \n",
       " Median :0.0000   Median :0.0000   Median :0.0000   Median :0.0000  \n",
       " Mean   :0.1569   Mean   :0.4706   Mean   :0.2745   Mean   :0.7059  \n",
       " 3rd Qu.:0.0000   3rd Qu.:1.0000   3rd Qu.:1.0000   3rd Qu.:1.0000  \n",
       " Max.   :1.0000   Max.   :2.0000   Max.   :1.0000   Max.   :4.0000  \n",
       "    negative         positive     \n",
       " Min.   :0.0000   Min.   :0.0000  \n",
       " 1st Qu.:0.0000   1st Qu.:0.0000  \n",
       " Median :1.0000   Median :0.0000  \n",
       " Mean   :0.8824   Mean   :0.6667  \n",
       " 3rd Qu.:1.0000   3rd Qu.:1.0000  \n",
       " Max.   :4.0000   Max.   :4.0000  "
      ]
     },
     "metadata": {},
     "output_type": "display_data"
    }
   ],
   "source": [
    "#get sentiment summary of nrc sentiment analysis\n",
    "summary(fire_sent_nrc)"
   ]
  },
  {
   "cell_type": "markdown",
   "metadata": {},
   "source": [
    "Summary Table Interpretation:\n",
    "\n",
    "As we can see above, the summary provides statistics for each of the emotions as well as the overall sentiment of the news article. We can get an idea about which emotions are expressed by lookng at their mean. We can also see that the overall passage is more negative than positive by comparing the mean between the negative and positive sentiment. This is not surprising, given that the article is discussing wildfires in California. We can also see that the emotions with the highest means are fear and trust. This is also not surprising since that the situation being discussed relates to fear of safety and fear of losing valuables. We can see that they are contrasting fear with trust, potentially to put citizens at ease during troubling times. "
   ]
  },
  {
   "cell_type": "code",
   "execution_count": 32,
   "metadata": {},
   "outputs": [
    {
     "data": {
      "text/html": [
       "'data.frame'"
      ],
      "text/latex": [
       "'data.frame'"
      ],
      "text/markdown": [
       "'data.frame'"
      ],
      "text/plain": [
       "[1] \"data.frame\""
      ]
     },
     "metadata": {},
     "output_type": "display_data"
    }
   ],
   "source": [
    "class(fire_sent_nrc)"
   ]
  },
  {
   "cell_type": "code",
   "execution_count": 33,
   "metadata": {},
   "outputs": [
    {
     "data": {
      "text/html": [
       "1.07843137254902"
      ],
      "text/latex": [
       "1.07843137254902"
      ],
      "text/markdown": [
       "1.07843137254902"
      ],
      "text/plain": [
       "[1] 1.078431"
      ]
     },
     "metadata": {},
     "output_type": "display_data"
    }
   ],
   "source": [
    "#further evidence that fear is a strong emotion in the aricle \n",
    "mean(fire_sent_nrc[,\"fear\"])"
   ]
  },
  {
   "cell_type": "markdown",
   "metadata": {},
   "source": [
    "#### Plotting Fire Article Sentiment"
   ]
  },
  {
   "cell_type": "code",
   "execution_count": 45,
   "metadata": {},
   "outputs": [
    {
     "data": {
      "image/png": "[encoded data removed]",
      "text/plain": [
       "plot without title"
      ]
     },
     "metadata": {
      "image/png": {
       "height": 420,
       "width": 420
      },
      "text/plain": {
       "height": 420,
       "width": 420
      }
     },
     "output_type": "display_data"
    }
   ],
   "source": [
    "plot(fire_sent_nrc[,\"fear\"],type=\"l\") #black line\n",
    "lines(fire_sent_nrc[,\"negative\"],col=\"red\")\n",
    "lines(fire_sent_nrc[,\"positive\"],col=\"blue\")"
   ]
  },
  {
   "cell_type": "markdown",
   "metadata": {},
   "source": [
    "Interpretation of Plot above:\n",
    "\n",
    "We can see that when fear(black line) rises so does negative sentiment(red line). We can also see that both fear and negative sentiment peak the most early on in the article and toward the end, presumably to convey the seriousness of the situation. Lastly, we can see that altough fear and negative sentiment peak higher than positive sentiment(blue line), the article ends on a positive note, likely to calm the public. "
   ]
  },
  {
   "cell_type": "markdown",
   "metadata": {},
   "source": [
    "## Political Report (CNN) Sentiment Analysis\n",
    "\n",
    "Th following is a political news article, mainly focused around president Trump.\n",
    "\n",
    "https://www.cnn.com/2018/10/09/politics/nikki-haley-resignation-donald-trump/index.html"
   ]
  },
  {
   "cell_type": "code",
   "execution_count": 38,
   "metadata": {},
   "outputs": [],
   "source": [
    "cnn_political <- \"In a political world seemingly incapable of being shocked, the resignation of United Nations Ambassador Nikki Haley on Tuesday did just that.\n",
    "The most common reaction upon hearing the news, which Axios' Jonathan Swan first reported, was WHAT???? (A senior State Department official told CNN that Haley had only told her staff about her resignation Tuesday morning. Another source familiar with the matter said Haley's resignation caught national security adviser John Bolton and Secretary of State Mike Pompeo by surprise.)\n",
    "And that reaction was quickly followed by WHY???\n",
    "The answer to the second question is now the big story. And, in truth, we just don't totally know yet why Haley, who seemed to be one of the few Trump administration officials able to stay in the good graces of Trump, the international community and establishment Republicans all at once, would decide to simply (and suddenly) call it quits.\n",
    "\n",
    "Trump, seeking to minimize any damage to himself from the surprise resignation, sat down with his outgoing UN ambassador shortly after the news broke and insisted he a) knew about her plans to leave last week and b) she had made the decision because she had served for two years (actually one year and seven months) and felt like it was time to go. (Haley will leave her job at the end of the year, Trump announced Tuesday.)\n",
    "It's been eight years of intense times,Haley said of her time as governor of South Carolina and her time in the administration. And I am a believer in term limits. She added: I don't have anything set on where I am going to go.\n",
    "And that might be true! But, the fact that neither Bolton nor Pompeo had any inkling that Haley was preparing to resign casts some doubt on the this-was-all-part-of-the-plan explanation. And, losing an Indian-American woman four weeks before an election and on the heels of a very contentious Supreme Court fight that divided deeply along gender lines suggests is far less than ideal timing for Trump.\n",
    "So, what else MIGHT be beyond Haley's shock resignation? Here are a few theories:\n",
    "1. She got edged out by the likes of Bolton and Pompeo\n",
    "It's no secret that the national security adviser and secretary of state, respectively, are foreign policy hard-liners. And that while Haley was outwardly very tough within the UN (and the Trump administration), she was reportedly a voice urging more moderation -- and toeing the preferred line of establishment Republicans -- in private. While Haley was, without question, a star of the first year of Trump's administration, she did clash with him at times over, among other things, Russia. During a TV appearance in April, Haley announced the US would impose new sanctions on Russia. Trump insisted no such sanctions had been put in place and the White House blamed the misunderstanding on a momentary confusion on Haley's part. She quickly responded that she did not get confused.\n",
    "With Bolton and Pompeo as the new shiny objects in the Trump Cabinet, Haley may have seen the writing on the wall -- and decided to leave on her own terms (before she is pushed).\n",
    "2. She needed to make some money\n",
    "Haley has spent a long time in elected (or appointed office). Prior to being elected governor in 2010, she spent six years as a member of the state House. Those are not hugely lucrative jobs. In 2015, the year before she was tapped to serve in the Trump administration, she and her husband reported an annual income of just over $170,000. In 2014, that number was closer to $190,000. And in 2013, Haley and her husband, Michael, reported making $270,000.\n",
    "According to Haley's 2018 financial disclosure, she reported a significant number of outstanding debts, including somewhere between $25,000 and $65,000 in credit cards, a mortgage in excess of $1 million and a line of credit between $250,000 and $500,000.\n",
    "Trumps big announcement on Nikki Haley\n",
    "\n",
    "Trump's big announcement on Nikki Haley 02:04\n",
    "With one child in college and another headed there in the next few years, Haley could well have been lured by the seven-figure salaries available to someone with a resume like hers in the private sector.\n",
    "(Also worth noting: Over the weekend, Citizens Responsibility and Ethics in Washington, a government ethics watchdog, requested an investigation into Haley's acceptance of seven free flights from South Carolina businessmen in 2017.)\n",
    "3. She wants to run for president\n",
    "There's very little doubt that Haley has her eye on the White House at some point in the future. (Doubt me? Haley brought her most trusted political adviser -- and pollster -- Jon Lerner to the UN with her.) Knowing that her resignation would set off talk of a potential primary challenge to Trump in 2020, Haley laughed off the possibility during her comments on Tuesday -- making clear she plans to campaign for Trump in two years time.\n",
    "In truth, Haley is too smart to run against Trump in 2020. While Trump's approval ratings are in bad shape with the broad electorate, he is among the most popular Republican presidents ever among Republican voters. No one is beating Trump in a primary in 2020 -- not Haley, not anyone.\n",
    "\n",
    "BUT, just because Haley isn't running in 2020 doesn't mean she isn't running. Remember that whether Trump wins or loses in 2020, the 2024 Republican nomination will be open. Yes, Vice President Mike Pence is a likely candidate -- particularly if Trump wins a second term in 2020. And he will be the Trump candidate. But what if there is a desire for a candidate who has OK relations with Trump world but also is not seen as totally and completely aligned with a former president who was, to put it mildly, a non-traditional Republican candidate and president?\n",
    "Enter Haley! She will have spent almost two years serving Trump, yes, but, by the time 2024 comes around, she will be six years removed from the Trump White House. Which might be a very appealing thing for Republicans.\n",
    "\""
   ]
  },
  {
   "cell_type": "code",
   "execution_count": 140,
   "metadata": {},
   "outputs": [],
   "source": [
    "#break up into sentences\n",
    "cnn_sentences <- get_sentences(cnn_political)"
   ]
  },
  {
   "cell_type": "code",
   "execution_count": 41,
   "metadata": {},
   "outputs": [],
   "source": [
    "cnn_nrc <- get_nrc_sentiment(cnn_sentences)"
   ]
  },
  {
   "cell_type": "code",
   "execution_count": 42,
   "metadata": {},
   "outputs": [
    {
     "data": {
      "text/html": [
       "0.173913043478261"
      ],
      "text/latex": [
       "0.173913043478261"
      ],
      "text/markdown": [
       "0.173913043478261"
      ],
      "text/plain": [
       "[1] 0.173913"
      ]
     },
     "metadata": {},
     "output_type": "display_data"
    }
   ],
   "source": [
    "mean(cnn_nrc$positive - cnn_nrc$negative)"
   ]
  },
  {
   "cell_type": "markdown",
   "metadata": {},
   "source": [
    "As you can see above, the CNN article is overall more positive than negative. This may come as a surprise given the public turmoil between CNN and the president. Let us take a closer look at the data by plotting certain emotions."
   ]
  },
  {
   "cell_type": "markdown",
   "metadata": {},
   "source": [
    "#### Plotting CNN political Article Sentiment"
   ]
  },
  {
   "cell_type": "code",
   "execution_count": 51,
   "metadata": {},
   "outputs": [
    {
     "data": {
      "image/png": "[encoded data removed]",
      "text/plain": [
       "plot without title"
      ]
     },
     "metadata": {
      "image/png": {
       "height": 420,
       "width": 420
      },
      "text/plain": {
       "height": 420,
       "width": 420
      }
     },
     "output_type": "display_data"
    }
   ],
   "source": [
    "plot(cnn_nrc$anger,type=\"l\") #black line \n",
    "lines(cnn_nrc$positive,col=\"blue\")\n",
    "lines(cnn_nrc$negative,col=\"purple\")"
   ]
  },
  {
   "cell_type": "markdown",
   "metadata": {},
   "source": [
    "Interpretation of plot above:\n",
    "\n",
    "We can see that at first the article provides an emotional rollercoaster, with high frequencies of anger, negative, and positive sentiments. However, before the article ends, the sentiment is overwhelmingly positive (blue line), which is consistent with what we found earlier in our analysis. "
   ]
  },
  {
   "cell_type": "markdown",
   "metadata": {},
   "source": [
    "## Sentiment Analysis based on an Amazon Review about a Car Booster Seat"
   ]
  },
  {
   "cell_type": "code",
   "execution_count": 52,
   "metadata": {},
   "outputs": [],
   "source": [
    "carseat_review <- \"Extremely disappointed in this booster seat!! My teenage daughter went to move the car seat from one seat to a different seat and when doing so, the latch system completely detached from the car seat! She used barely any force when she was trying to figure out how to unlatch it! I am sick to my stomach knowing that if we had ever been in an accident, my son (or anyone else in the vehicle) could've been seriously injured or even killed due to the latch system failing and the car seat coming right off the seat!\n",
    "\""
   ]
  },
  {
   "cell_type": "code",
   "execution_count": 53,
   "metadata": {},
   "outputs": [],
   "source": [
    "#break up into sentences\n",
    "carseat_sentences <- get_sentences(carseat_review)"
   ]
  },
  {
   "cell_type": "code",
   "execution_count": 54,
   "metadata": {},
   "outputs": [
    {
     "data": {
      "text/html": [
       "-0.7125"
      ],
      "text/latex": [
       "-0.7125"
      ],
      "text/markdown": [
       "-0.7125"
      ],
      "text/plain": [
       "[1] -0.7125"
      ]
     },
     "metadata": {},
     "output_type": "display_data"
    }
   ],
   "source": [
    "mean(get_sentiment(carseat_sentences))"
   ]
  },
  {
   "cell_type": "markdown",
   "metadata": {},
   "source": [
    "By looking at the mean sentiment above, it is clear that the review is very negative."
   ]
  },
  {
   "cell_type": "code",
   "execution_count": 55,
   "metadata": {},
   "outputs": [],
   "source": [
    "cs_nrc <-get_nrc_sentiment(carseat_sentences)"
   ]
  },
  {
   "cell_type": "code",
   "execution_count": 56,
   "metadata": {},
   "outputs": [
    {
     "data": {
      "text/plain": [
       "     anger       anticipation    disgust          fear          joy      \n",
       " Min.   :0.00   Min.   :0.0   Min.   :0.00   Min.   :0.0   Min.   :0.00  \n",
       " 1st Qu.:0.75   1st Qu.:0.0   1st Qu.:0.00   1st Qu.:0.0   1st Qu.:0.00  \n",
       " Median :1.00   Median :0.0   Median :0.50   Median :0.5   Median :0.00  \n",
       " Mean   :0.75   Mean   :0.5   Mean   :0.75   Mean   :1.0   Mean   :0.25  \n",
       " 3rd Qu.:1.00   3rd Qu.:0.5   3rd Qu.:1.25   3rd Qu.:1.5   3rd Qu.:0.25  \n",
       " Max.   :1.00   Max.   :2.0   Max.   :2.00   Max.   :3.0   Max.   :1.00  \n",
       "    sadness        surprise        trust        negative       positive   \n",
       " Min.   :0.00   Min.   :0.00   Min.   :0.0   Min.   :0.00   Min.   :0.00  \n",
       " 1st Qu.:0.00   1st Qu.:0.00   1st Qu.:0.0   1st Qu.:0.75   1st Qu.:0.00  \n",
       " Median :0.50   Median :0.00   Median :0.5   Median :1.00   Median :0.50  \n",
       " Mean   :1.25   Mean   :0.25   Mean   :0.5   Mean   :1.50   Mean   :0.75  \n",
       " 3rd Qu.:1.75   3rd Qu.:0.25   3rd Qu.:1.0   3rd Qu.:1.75   3rd Qu.:1.25  \n",
       " Max.   :4.00   Max.   :1.00   Max.   :1.0   Max.   :4.00   Max.   :2.00  "
      ]
     },
     "metadata": {},
     "output_type": "display_data"
    }
   ],
   "source": [
    "summary(cs_nrc)"
   ]
  },
  {
   "cell_type": "markdown",
   "metadata": {},
   "source": [
    "Interpretation:\n",
    "\n",
    "Clearly the mean for negative sentiment (1.5) is much larger than the mean for positive sentiment (0.75). One can simply read the review and decipher that the review is negative, so the summary above simply provides further evidence about the negative nature of the review."
   ]
  },
  {
   "cell_type": "markdown",
   "metadata": {},
   "source": [
    "#### Plotting Amazon Review"
   ]
  },
  {
   "cell_type": "code",
   "execution_count": 67,
   "metadata": {},
   "outputs": [
    {
     "data": {
      "image/png": "[encoded data removed]",
      "text/plain": [
       "plot without title"
      ]
     },
     "metadata": {
      "image/png": {
       "height": 420,
       "width": 420
      },
      "text/plain": {
       "height": 420,
       "width": 420
      }
     },
     "output_type": "display_data"
    }
   ],
   "source": [
    "plot(cs_nrc$negative,type=\"l\") #black line \n",
    "lines(cs_nrc$positive,col=\"blue\")"
   ]
  },
  {
   "cell_type": "markdown",
   "metadata": {},
   "source": [
    "You can clearly see the discprenecy between positive and negative sentiment in the review with the plot above."
   ]
  },
  {
   "cell_type": "markdown",
   "metadata": {},
   "source": [
    "## Sentiment Analysis of a Science Fiction book\n",
    "\n",
    "Note: The text file for the book is on My Github page:\n",
    "\n",
    "https://github.com/diego-gomez92 "
   ]
  },
  {
   "cell_type": "code",
   "execution_count": 70,
   "metadata": {},
   "outputs": [
    {
     "name": "stderr",
     "output_type": "stream",
     "text": [
      "Warning message:\n",
      "\"package 'readr' was built under R version 3.6.3\"\n"
     ]
    }
   ],
   "source": [
    "#install.packages(\"readr\")\n",
    "library(readr)"
   ]
  },
  {
   "cell_type": "code",
   "execution_count": 77,
   "metadata": {},
   "outputs": [],
   "source": [
    "#if you need more information on the 'readr' library, run the code below\n",
    "#help(readr)"
   ]
  },
  {
   "cell_type": "code",
   "execution_count": 71,
   "metadata": {},
   "outputs": [],
   "source": [
    "#read file and assign to a variable\n",
    "sci_fi_story <- read_file(\"oceanDepths.txt\")"
   ]
  },
  {
   "cell_type": "code",
   "execution_count": 73,
   "metadata": {},
   "outputs": [
    {
     "data": {
      "text/html": [
       "0.0532407407407407"
      ],
      "text/latex": [
       "0.0532407407407407"
      ],
      "text/markdown": [
       "0.0532407407407407"
      ],
      "text/plain": [
       "[1] 0.05324074"
      ]
     },
     "metadata": {},
     "output_type": "display_data"
    }
   ],
   "source": [
    "#break up into sentences\n",
    "ocean_sentence <- get_sentences(sci_fi_story)\n",
    "mean(get_sentiment(ocean_sentence))"
   ]
  },
  {
   "cell_type": "markdown",
   "metadata": {},
   "source": [
    "The book is slightly positive. "
   ]
  },
  {
   "cell_type": "code",
   "execution_count": 74,
   "metadata": {},
   "outputs": [
    {
     "name": "stdout",
     "output_type": "stream",
     "text": [
      "[1] 648\n"
     ]
    }
   ],
   "source": [
    "print(length(ocean_sentence))\n",
    "ocean_nrc <- get_nrc_sentiment(ocean_sentence)"
   ]
  },
  {
   "cell_type": "code",
   "execution_count": 82,
   "metadata": {},
   "outputs": [],
   "source": [
    "nrow(ocean_nrc)"
   ]
  },
  {
   "cell_type": "markdown",
   "metadata": {},
   "source": [
    "The book is 648 sentences long. "
   ]
  },
  {
   "cell_type": "code",
   "execution_count": 76,
   "metadata": {},
   "outputs": [
    {
     "data": {
      "text/plain": [
       "     anger         anticipation       disgust            fear       \n",
       " Min.   :0.0000   Min.   :0.0000   Min.   :0.0000   Min.   :0.0000  \n",
       " 1st Qu.:0.0000   1st Qu.:0.0000   1st Qu.:0.0000   1st Qu.:0.0000  \n",
       " Median :0.0000   Median :0.0000   Median :0.0000   Median :0.0000  \n",
       " Mean   :0.1559   Mean   :0.2886   Mean   :0.1188   Mean   :0.2392  \n",
       " 3rd Qu.:0.0000   3rd Qu.:0.0000   3rd Qu.:0.0000   3rd Qu.:0.0000  \n",
       " Max.   :5.0000   Max.   :5.0000   Max.   :6.0000   Max.   :7.0000  \n",
       "      joy            sadness          surprise          trust      \n",
       " Min.   :0.0000   Min.   :0.0000   Min.   :0.0000   Min.   :0.000  \n",
       " 1st Qu.:0.0000   1st Qu.:0.0000   1st Qu.:0.0000   1st Qu.:0.000  \n",
       " Median :0.0000   Median :0.0000   Median :0.0000   Median :0.000  \n",
       " Mean   :0.2191   Mean   :0.2022   Mean   :0.1451   Mean   :0.338  \n",
       " 3rd Qu.:0.0000   3rd Qu.:0.0000   3rd Qu.:0.0000   3rd Qu.:1.000  \n",
       " Max.   :3.0000   Max.   :6.0000   Max.   :2.0000   Max.   :3.000  \n",
       "    negative         positive     \n",
       " Min.   :0.0000   Min.   :0.0000  \n",
       " 1st Qu.:0.0000   1st Qu.:0.0000  \n",
       " Median :0.0000   Median :0.0000  \n",
       " Mean   :0.4321   Mean   :0.5787  \n",
       " 3rd Qu.:1.0000   3rd Qu.:1.0000  \n",
       " Max.   :7.0000   Max.   :6.0000  "
      ]
     },
     "metadata": {},
     "output_type": "display_data"
    }
   ],
   "source": [
    "summary(ocean_nrc)"
   ]
  },
  {
   "cell_type": "code",
   "execution_count": 88,
   "metadata": {},
   "outputs": [
    {
     "data": {
      "image/png": "[encoded data removed]",
      "text/plain": [
       "plot without title"
      ]
     },
     "metadata": {
      "image/png": {
       "height": 420,
       "width": 420
      },
      "text/plain": {
       "height": 420,
       "width": 420
      }
     },
     "output_type": "display_data"
    }
   ],
   "source": [
    "plot(ocean_nrc[,'fear'],type=\"l\",col=\"red\")\n",
    "lines(ocean_nrc[,'anticipation'],col=\"magenta\")\n",
    "\n",
    "lines(ocean_nrc[,'joy'],col=\"blue\")\n",
    "lines(ocean_nrc[,'positive'],col=\"green\")"
   ]
  },
  {
   "cell_type": "markdown",
   "metadata": {},
   "source": [
    "Interpretation:\n",
    "\n",
    "By looking at the plot, we can see that the author is providing us with a positive(green) and joyful(blue) begining to the story. However, around the climax of the book, we can see a huge spike in both anticipation (magenta) and fear (red). After the climax passes, we can see that once again positivity and joy become the dominant emotions of the story. This coincides with conflict resoultion after a climatic event, which is common in most stories. \n",
    "\n",
    "The power of sentiment analysis is that we can clearly see the author's intentions by looking at what emotions take center stage at certain points thorughout their book. Evidently, the author aims to ellicit different emotions in the reader in accordance with the events unfolding in the story. "
   ]
  },
  {
   "cell_type": "code",
   "execution_count": 89,
   "metadata": {},
   "outputs": [
    {
     "data": {
      "image/png": "[encoded data removed]",
      "text/plain": [
       "plot without title"
      ]
     },
     "metadata": {
      "image/png": {
       "height": 420,
       "width": 420
      },
      "text/plain": {
       "height": 420,
       "width": 420
      }
     },
     "output_type": "display_data"
    }
   ],
   "source": [
    "#this plot provides further evidence about shifts in emotional tone throughout the story\n",
    "plot(ocean_nrc[,'joy'] - ocean_nrc[,'fear'],type='l')\n",
    "points(ocean_nrc[,'positive'] - ocean_nrc[,'negative'],col=\"blue\")\n",
    "points(ocean_nrc[,'anticipation'],col=\"purple\")"
   ]
  },
  {
   "cell_type": "markdown",
   "metadata": {},
   "source": [
    "## Blog Post SJSU Sentiment Analysis\n",
    "\n",
    "This blog post has to do with women in sports and how their involvement has evolved over the decades. To read more, follow the link provided.\n",
    "\n",
    "https://blogs.sjsu.edu/wsq/2019/02/06/shirley-reekie-sailor-rower-professor/"
   ]
  },
  {
   "cell_type": "code",
   "execution_count": 90,
   "metadata": {},
   "outputs": [],
   "source": [
    "sjsu_txt <- \"Kinesiology Professor Shirley Reekie first learned about Margaret Jenkins, San Jose State’s first Olympian, after the 1984 Olympics in Los Angeles. Reekie had joined the faculty at SJSU in 1982, not long after writing a dissertation on the history of woman participation in sport in Great Britain. Drawn to Jenkins’ story, Reekie sparked a friendship with the decorated athlete and invited her to speak to her class.\n",
    "\n",
    "“She was a feisty old bird,” says Reekie. “And I mean that in the nicest possible way. When she was a student at San Jose State, she was picked for the 1928 Olympic team. She had done most of her training in javelin but switched to discus on hearing that javelin was not included for women. But when she returned from Amsterdam, having finished sixth, she told me she was failed in a class in the women’s PE department because she had been, quote, ‘too competitive.'”\n",
    "\n",
    "In the early 1920s, woman student-athletes at San Jose State (then San Jose Teachers College) were given two options: participate in friendly “play days,” where they would play on teams with other colleges, as opposed to against them, and telegraphic meets. Jenkins and her teammates were not allowed to compete in the company of their opponents—to do so would foster too much competitive spirit, which was associated with myths about the alleged stress that athletics could have on the female body. Instead, athletes would compete on their home campuses in sports like swimming or track and field and have their scores communicated via telegraph to learn the results.\n",
    "\n",
    "Through her research, Reekie learned that the way sport was marketed in the early 20th century impacted who competed—and to what extent they could compete. Her book Bean Bags to Bod Pods: A History of 150 Years of San Jose State University’s Department of Kinesiology (Mill City Press 2012) explores shifting cultural attitudes about gender and sport. Among the myths she uncovered: Women were “too highly strung emotionally;” they would develop an “undesirable notoriety” and their menstrual cycles would somehow interfere with their participation. (Reekie 84) Despite these popular beliefs, many woman student-athletes like Jenkins pursued sport at San Jose State.\""
   ]
  },
  {
   "cell_type": "code",
   "execution_count": 99,
   "metadata": {},
   "outputs": [],
   "source": [
    "#break up into sentences\n",
    "sjsu_sent <- get_sentences(sjsu_txt)"
   ]
  },
  {
   "cell_type": "code",
   "execution_count": 100,
   "metadata": {},
   "outputs": [
    {
     "data": {
      "text/html": [
       "0.566666666666667"
      ],
      "text/latex": [
       "0.566666666666667"
      ],
      "text/markdown": [
       "0.566666666666667"
      ],
      "text/plain": [
       "[1] 0.5666667"
      ]
     },
     "metadata": {},
     "output_type": "display_data"
    }
   ],
   "source": [
    "mean(get_sentiment(sjsu_sent))"
   ]
  },
  {
   "cell_type": "code",
   "execution_count": 104,
   "metadata": {},
   "outputs": [],
   "source": [
    "sjsu_nrc <- get_nrc_sentiment(sjsu_sent)"
   ]
  },
  {
   "cell_type": "code",
   "execution_count": 105,
   "metadata": {},
   "outputs": [
    {
     "data": {
      "text/plain": [
       "     anger      anticipation    disgust            fear             joy        \n",
       " Min.   :0.0   Min.   :0.0   Min.   :0.0000   Min.   :0.0000   Min.   :0.0000  \n",
       " 1st Qu.:0.0   1st Qu.:0.0   1st Qu.:0.0000   1st Qu.:0.0000   1st Qu.:0.0000  \n",
       " Median :0.0   Median :0.0   Median :0.0000   Median :0.0000   Median :0.0000  \n",
       " Mean   :0.2   Mean   :0.4   Mean   :0.1333   Mean   :0.2667   Mean   :0.1333  \n",
       " 3rd Qu.:0.0   3rd Qu.:1.0   3rd Qu.:0.0000   3rd Qu.:0.0000   3rd Qu.:0.0000  \n",
       " Max.   :2.0   Max.   :1.0   Max.   :2.0000   Max.   :2.0000   Max.   :1.0000  \n",
       "    sadness           surprise           trust           negative  \n",
       " Min.   :0.00000   Min.   :0.00000   Min.   :0.0000   Min.   :0.0  \n",
       " 1st Qu.:0.00000   1st Qu.:0.00000   1st Qu.:0.0000   1st Qu.:0.0  \n",
       " Median :0.00000   Median :0.00000   Median :0.0000   Median :0.0  \n",
       " Mean   :0.06667   Mean   :0.06667   Mean   :0.3333   Mean   :0.4  \n",
       " 3rd Qu.:0.00000   3rd Qu.:0.00000   3rd Qu.:1.0000   3rd Qu.:1.0  \n",
       " Max.   :1.00000   Max.   :1.00000   Max.   :1.0000   Max.   :2.0  \n",
       "    positive  \n",
       " Min.   :0.0  \n",
       " 1st Qu.:0.0  \n",
       " Median :1.0  \n",
       " Mean   :1.0  \n",
       " 3rd Qu.:1.5  \n",
       " Max.   :3.0  "
      ]
     },
     "metadata": {},
     "output_type": "display_data"
    }
   ],
   "source": [
    "summary(sjsu_nrc)"
   ]
  },
  {
   "cell_type": "code",
   "execution_count": 110,
   "metadata": {},
   "outputs": [
    {
     "data": {
      "image/png": "[encoded data removed]",
      "text/plain": [
       "plot without title"
      ]
     },
     "metadata": {
      "image/png": {
       "height": 420,
       "width": 420
      },
      "text/plain": {
       "height": 420,
       "width": 420
      }
     },
     "output_type": "display_data"
    }
   ],
   "source": [
    "plot(sjsu_nrc[,'positive'],col=\"green\", type='l')\n",
    "lines(sjsu_nrc[,'negative'],col=\"magenta\")\n",
    "lines(sjsu_nrc[,'joy'],col=\"blue\")"
   ]
  },
  {
   "cell_type": "markdown",
   "metadata": {},
   "source": [
    "Interpreation:\n",
    "\n",
    "We can see that the blog post is overall positive but with some negative aspects. This is not surpsising since the blog post covers the injustices made against women in sports in past decades and the insparational figures that broke those barriers. "
   ]
  },
  {
   "cell_type": "markdown",
   "metadata": {},
   "source": [
    "## The Woman Of Stone Sentiment Analysis\n",
    "\n",
    "Another short story. See the link provided for further information.\n",
    "\n",
    "https://en.wikisource.org/wiki/The_Face_and_the_Mask/The_Woman_of_Stone"
   ]
  },
  {
   "cell_type": "code",
   "execution_count": 111,
   "metadata": {},
   "outputs": [],
   "source": [
    "woman_stone <- \"THE WOMAN OF STONE.\n",
    "\n",
    "\n",
    "Lurine, was pretty, _petite_, and eighteen. She had a nice\n",
    "situation at the Pharmacie de Siam, in the Rue St. Honoré. She had no\n",
    "one dependent upon her, and all the money she earned was her own. Her\n",
    "dress was of cheap material perhaps, but it was cut and fitted with\n",
    "that daintiness of perfection which seems to be the natural gift of the\n",
    "Parisienne, so that one never thought of the cheapness, but admired\n",
    "only the effect, which was charming. She was book-keeper and general\n",
    "assistant at the Pharmacie, and had a little room of her own across the\n",
    "Seine, in the Rue de Lille. She crossed the river twice every day--once\n",
    "in the morning when the sun was shining, and again at night when the\n",
    "radiant lights along the river's bank glittered like jewels in a long\n",
    "necklace. She had her little walk through the Gardens of the Tuileries\n",
    "every morning after crossing the Pont Royal, but she did not return\n",
    "through the gardens in the evening, for a park in the morning is a\n",
    "different thing to a park at night. On her return she always walked\n",
    "along the Rue de Tuileries until she came to the bridge. Her morning\n",
    "ramble through the gardens was a daily delight to her, for the Rue de\n",
    "Lille is narrow, and not particularly bright, so it was pleasant to\n",
    "walk beneath the green trees, to feel the crisp gravel under her feet,\n",
    "and to see the gleaming white statues in the sunlight, with the sparkle\n",
    "on the round fountain pond, by the side of which she sometimes sat. Her\n",
    "favorite statue was one of a woman that stood on a pedestal near the\n",
    "Rue de Rivoli. The arm was thrown over her head, and there was a smile\n",
    "on the marble face which was inscrutable. It fascinated the girl as she\n",
    "looked up to it, and seemed to be the morning greeting to her busy\n",
    "day's work in the city. If no one was in sight, which was often the\n",
    "case at eight o'clock in the morning, the girl kissed the tips of her\n",
    "fingers, and tossed the salute airily up to the statue, and the woman\n",
    "of stone always smiled back at her the strange mystical smile which\n",
    "seemed to indicate that it knew much more of this world and its ways\n",
    "than did the little Parisienne who daily gazed up at her.\n",
    "\n",
    "Lurine was happy, as a matter of course, for was not Paris always\n",
    "beautiful? Did not the sun shine brightly? And was not the air always\n",
    "clear? What more, then, could a young girl wish? There was one thing\n",
    "which was perhaps lacking, but that at last was supplied; and then\n",
    "there was not a happier girl in all Paris than Lurine. She almost cried\n",
    "it aloud to her favorite statue the next morning, for it seemed to her\n",
    "that the smile had broadened since she had passed it the morning\n",
    "before, and she felt as if the woman of stone had guessed the secret of\n",
    "the woman of flesh.\""
   ]
  },
  {
   "cell_type": "code",
   "execution_count": 112,
   "metadata": {},
   "outputs": [],
   "source": [
    "#break up into sentences\n",
    "woman_stone_sent <- get_sentences(woman_stone)"
   ]
  },
  {
   "cell_type": "code",
   "execution_count": 113,
   "metadata": {},
   "outputs": [
    {
     "data": {
      "text/html": [
       "<style>\n",
       ".list-inline {list-style: none; margin:0; padding: 0}\n",
       ".list-inline>li {display: inline-block}\n",
       ".list-inline>li:not(:last-child)::after {content: \"\\00b7\"; padding: 0 .5ex}\n",
       "</style>\n",
       "<ol class=list-inline><li>0</li><li>1.35</li><li>1</li><li>0.6</li><li>2.75</li><li>-0.1</li><li>3.05</li><li>0</li><li>-0.5</li><li>2.5</li><li>0.25</li><li>0.75</li><li>1.35</li><li>1.3</li><li>1.5</li><li>1.7</li><li>0.5</li><li>1.2</li><li>-0.25</li><li>0.5</li></ol>\n"
      ],
      "text/latex": [
       "\\begin{enumerate*}\n",
       "\\item 0\n",
       "\\item 1.35\n",
       "\\item 1\n",
       "\\item 0.6\n",
       "\\item 2.75\n",
       "\\item -0.1\n",
       "\\item 3.05\n",
       "\\item 0\n",
       "\\item -0.5\n",
       "\\item 2.5\n",
       "\\item 0.25\n",
       "\\item 0.75\n",
       "\\item 1.35\n",
       "\\item 1.3\n",
       "\\item 1.5\n",
       "\\item 1.7\n",
       "\\item 0.5\n",
       "\\item 1.2\n",
       "\\item -0.25\n",
       "\\item 0.5\n",
       "\\end{enumerate*}\n"
      ],
      "text/markdown": [
       "1. 0\n",
       "2. 1.35\n",
       "3. 1\n",
       "4. 0.6\n",
       "5. 2.75\n",
       "6. -0.1\n",
       "7. 3.05\n",
       "8. 0\n",
       "9. -0.5\n",
       "10. 2.5\n",
       "11. 0.25\n",
       "12. 0.75\n",
       "13. 1.35\n",
       "14. 1.3\n",
       "15. 1.5\n",
       "16. 1.7\n",
       "17. 0.5\n",
       "18. 1.2\n",
       "19. -0.25\n",
       "20. 0.5\n",
       "\n",
       "\n"
      ],
      "text/plain": [
       " [1]  0.00  1.35  1.00  0.60  2.75 -0.10  3.05  0.00 -0.50  2.50  0.25  0.75\n",
       "[13]  1.35  1.30  1.50  1.70  0.50  1.20 -0.25  0.50"
      ]
     },
     "metadata": {},
     "output_type": "display_data"
    }
   ],
   "source": [
    "get_sentiment(woman_stone_sent)"
   ]
  },
  {
   "cell_type": "code",
   "execution_count": 121,
   "metadata": {},
   "outputs": [],
   "source": [
    "nrc_women_sent <-get_nrc_sentiment(woman_stone_sent)"
   ]
  },
  {
   "cell_type": "code",
   "execution_count": 122,
   "metadata": {},
   "outputs": [
    {
     "data": {
      "text/plain": [
       "     anger      anticipation     disgust          fear           joy     \n",
       " Min.   :0.0   Min.   :0.00   Min.   :0.00   Min.   :0.00   Min.   :0.0  \n",
       " 1st Qu.:0.0   1st Qu.:0.00   1st Qu.:0.00   1st Qu.:0.00   1st Qu.:0.0  \n",
       " Median :0.0   Median :0.00   Median :0.00   Median :0.00   Median :1.0  \n",
       " Mean   :0.2   Mean   :0.85   Mean   :0.05   Mean   :0.05   Mean   :1.1  \n",
       " 3rd Qu.:0.0   3rd Qu.:1.00   3rd Qu.:0.00   3rd Qu.:0.00   3rd Qu.:2.0  \n",
       " Max.   :1.0   Max.   :5.00   Max.   :1.00   Max.   :1.00   Max.   :5.0  \n",
       "    sadness       surprise       trust      negative       positive   \n",
       " Min.   :0.0   Min.   :0.0   Min.   :0   Min.   :0.00   Min.   :0.00  \n",
       " 1st Qu.:0.0   1st Qu.:0.0   1st Qu.:0   1st Qu.:0.00   1st Qu.:0.75  \n",
       " Median :0.0   Median :0.5   Median :1   Median :1.00   Median :1.00  \n",
       " Mean   :0.3   Mean   :0.6   Mean   :1   Mean   :0.65   Mean   :1.55  \n",
       " 3rd Qu.:1.0   3rd Qu.:1.0   3rd Qu.:1   3rd Qu.:1.00   3rd Qu.:2.25  \n",
       " Max.   :1.0   Max.   :2.0   Max.   :4   Max.   :2.00   Max.   :5.00  "
      ]
     },
     "metadata": {},
     "output_type": "display_data"
    }
   ],
   "source": [
    "summary(nrc_women_sent)"
   ]
  },
  {
   "cell_type": "code",
   "execution_count": 128,
   "metadata": {},
   "outputs": [
    {
     "data": {
      "image/png": "[encoded data removed]",
      "text/plain": [
       "plot without title"
      ]
     },
     "metadata": {
      "image/png": {
       "height": 420,
       "width": 420
      },
      "text/plain": {
       "height": 420,
       "width": 420
      }
     },
     "output_type": "display_data"
    }
   ],
   "source": [
    "plot(nrc_women_sent[,'positive'], col=\"green\", type='l')\n",
    "lines(nrc_women_sent[,'negative'], col=\"red\")\n",
    "lines(nrc_women_sent[,'joy'], col=\"blue\")\n",
    "lines(nrc_women_sent[,'anticipation'], col=\"magenta\")"
   ]
  },
  {
   "cell_type": "markdown",
   "metadata": {},
   "source": [
    "Interpreation:\n",
    "\n",
    "By looking at the plot, we can see similar patterns of emotional shifts throughout the text. More notibaly, we can see the anticipation around the middle and we can also see that the the text ends on a joyful and positive tone as we would expect."
   ]
  },
  {
   "cell_type": "markdown",
   "metadata": {},
   "source": [
    "## Limitations of Sentiment Analysis\n",
    "\n",
    "Let us create some interesting text. Then, let us see what our sentiment analysis discovers about the contents of the text. "
   ]
  },
  {
   "cell_type": "code",
   "execution_count": 129,
   "metadata": {},
   "outputs": [],
   "source": [
    "test.txt <- \"i do not love R. It isn't my favorite language. It is my 23rd favorite language.\""
   ]
  },
  {
   "cell_type": "code",
   "execution_count": 130,
   "metadata": {},
   "outputs": [],
   "source": [
    "#break up into sentences\n",
    "test.sent <- get_sentences(test.txt)"
   ]
  },
  {
   "cell_type": "code",
   "execution_count": 132,
   "metadata": {},
   "outputs": [
    {
     "data": {
      "text/html": [
       "<style>\n",
       ".list-inline {list-style: none; margin:0; padding: 0}\n",
       ".list-inline>li {display: inline-block}\n",
       ".list-inline>li:not(:last-child)::after {content: \"\\00b7\"; padding: 0 .5ex}\n",
       "</style>\n",
       "<ol class=list-inline><li>'i do not love R.'</li><li>'It isn\\'t my favorite language.'</li><li>'It is my 23rd favorite language.'</li></ol>\n"
      ],
      "text/latex": [
       "\\begin{enumerate*}\n",
       "\\item 'i do not love R.'\n",
       "\\item 'It isn\\textbackslash{}'t my favorite language.'\n",
       "\\item 'It is my 23rd favorite language.'\n",
       "\\end{enumerate*}\n"
      ],
      "text/markdown": [
       "1. 'i do not love R.'\n",
       "2. 'It isn\\'t my favorite language.'\n",
       "3. 'It is my 23rd favorite language.'\n",
       "\n",
       "\n"
      ],
      "text/plain": [
       "[1] \"i do not love R.\"                 \"It isn't my favorite language.\"  \n",
       "[3] \"It is my 23rd favorite language.\""
      ]
     },
     "metadata": {},
     "output_type": "display_data"
    }
   ],
   "source": [
    "test.sent"
   ]
  },
  {
   "cell_type": "code",
   "execution_count": 133,
   "metadata": {},
   "outputs": [
    {
     "data": {
      "text/html": [
       "<style>\n",
       ".list-inline {list-style: none; margin:0; padding: 0}\n",
       ".list-inline>li {display: inline-block}\n",
       ".list-inline>li:not(:last-child)::after {content: \"\\00b7\"; padding: 0 .5ex}\n",
       "</style>\n",
       "<ol class=list-inline><li>0.75</li><li>0.75</li><li>0.75</li></ol>\n"
      ],
      "text/latex": [
       "\\begin{enumerate*}\n",
       "\\item 0.75\n",
       "\\item 0.75\n",
       "\\item 0.75\n",
       "\\end{enumerate*}\n"
      ],
      "text/markdown": [
       "1. 0.75\n",
       "2. 0.75\n",
       "3. 0.75\n",
       "\n",
       "\n"
      ],
      "text/plain": [
       "[1] 0.75 0.75 0.75"
      ]
     },
     "metadata": {},
     "output_type": "display_data"
    }
   ],
   "source": [
    "get_sentiment(test.sent)"
   ]
  },
  {
   "cell_type": "code",
   "execution_count": 139,
   "metadata": {},
   "outputs": [
    {
     "data": {
      "text/html": [
       "0.75"
      ],
      "text/latex": [
       "0.75"
      ],
      "text/markdown": [
       "0.75"
      ],
      "text/plain": [
       "[1] 0.75"
      ]
     },
     "metadata": {},
     "output_type": "display_data"
    }
   ],
   "source": [
    "mean(get_sentiment(test.sent))"
   ]
  },
  {
   "cell_type": "markdown",
   "metadata": {},
   "source": [
    "Surprisingly, the the mean sentiment above is overwhelmingly positive. But why? Let us look into the content of the text further. "
   ]
  },
  {
   "cell_type": "code",
   "execution_count": 137,
   "metadata": {},
   "outputs": [],
   "source": [
    "test.nrc <- get_nrc_sentiment(test.sent)"
   ]
  },
  {
   "cell_type": "code",
   "execution_count": 135,
   "metadata": {},
   "outputs": [
    {
     "data": {
      "text/html": [
       "<table>\n",
       "<caption>A data.frame: 3 × 10</caption>\n",
       "<thead>\n",
       "\t<tr><th scope=col>anger</th><th scope=col>anticipation</th><th scope=col>disgust</th><th scope=col>fear</th><th scope=col>joy</th><th scope=col>sadness</th><th scope=col>surprise</th><th scope=col>trust</th><th scope=col>negative</th><th scope=col>positive</th></tr>\n",
       "\t<tr><th scope=col>&lt;dbl&gt;</th><th scope=col>&lt;dbl&gt;</th><th scope=col>&lt;dbl&gt;</th><th scope=col>&lt;dbl&gt;</th><th scope=col>&lt;dbl&gt;</th><th scope=col>&lt;dbl&gt;</th><th scope=col>&lt;dbl&gt;</th><th scope=col>&lt;dbl&gt;</th><th scope=col>&lt;dbl&gt;</th><th scope=col>&lt;dbl&gt;</th></tr>\n",
       "</thead>\n",
       "<tbody>\n",
       "\t<tr><td>0</td><td>0</td><td>0</td><td>0</td><td>1</td><td>0</td><td>0</td><td>0</td><td>0</td><td>1</td></tr>\n",
       "\t<tr><td>0</td><td>0</td><td>0</td><td>0</td><td>1</td><td>0</td><td>0</td><td>1</td><td>0</td><td>1</td></tr>\n",
       "\t<tr><td>0</td><td>0</td><td>0</td><td>0</td><td>1</td><td>0</td><td>0</td><td>1</td><td>0</td><td>1</td></tr>\n",
       "</tbody>\n",
       "</table>\n"
      ],
      "text/latex": [
       "A data.frame: 3 × 10\n",
       "\\begin{tabular}{llllllllll}\n",
       " anger & anticipation & disgust & fear & joy & sadness & surprise & trust & negative & positive\\\\\n",
       " <dbl> & <dbl> & <dbl> & <dbl> & <dbl> & <dbl> & <dbl> & <dbl> & <dbl> & <dbl>\\\\\n",
       "\\hline\n",
       "\t 0 & 0 & 0 & 0 & 1 & 0 & 0 & 0 & 0 & 1\\\\\n",
       "\t 0 & 0 & 0 & 0 & 1 & 0 & 0 & 1 & 0 & 1\\\\\n",
       "\t 0 & 0 & 0 & 0 & 1 & 0 & 0 & 1 & 0 & 1\\\\\n",
       "\\end{tabular}\n"
      ],
      "text/markdown": [
       "\n",
       "A data.frame: 3 × 10\n",
       "\n",
       "| anger &lt;dbl&gt; | anticipation &lt;dbl&gt; | disgust &lt;dbl&gt; | fear &lt;dbl&gt; | joy &lt;dbl&gt; | sadness &lt;dbl&gt; | surprise &lt;dbl&gt; | trust &lt;dbl&gt; | negative &lt;dbl&gt; | positive &lt;dbl&gt; |\n",
       "|---|---|---|---|---|---|---|---|---|---|\n",
       "| 0 | 0 | 0 | 0 | 1 | 0 | 0 | 0 | 0 | 1 |\n",
       "| 0 | 0 | 0 | 0 | 1 | 0 | 0 | 1 | 0 | 1 |\n",
       "| 0 | 0 | 0 | 0 | 1 | 0 | 0 | 1 | 0 | 1 |\n",
       "\n"
      ],
      "text/plain": [
       "  anger anticipation disgust fear joy sadness surprise trust negative positive\n",
       "1 0     0            0       0    1   0       0        0     0        1       \n",
       "2 0     0            0       0    1   0       0        1     0        1       \n",
       "3 0     0            0       0    1   0       0        1     0        1       "
      ]
     },
     "metadata": {},
     "output_type": "display_data"
    }
   ],
   "source": [
    "test.nrc"
   ]
  },
  {
   "cell_type": "markdown",
   "metadata": {},
   "source": [
    "Interpretation:\n",
    "\n",
    "Why did the sentiment analysis misinterpret the sentences as having a positive sentiment when clearly they are negative? In short, it missed the sarcasm, double negatives, and cynism. For example, the sentence 'i do not love R' can become 'i love R', which is why it has a positive sentiment of .75. \n",
    "\n",
    "This is one of the shortcomings of some forms of sentiment analysis. For example, if you look at tweets with dry humor, sarcasm, or cynism, you might miss the sentiment completely.\n",
    "\n",
    "Solutions:\n",
    "\n",
    "Companies build phrases that look for a negator in a sentence (like 'not') and take the following words and invert the sentiment. This solution has problems however. For instance, what is the opposite of surprise? We cannot say that one emotion is the opposite of the other. Another example, what is the opposite of trust? Clearly there are no answers to such questions. Another potential solution is that you can build your own dictionary (e.g., analyze a speech of someone), but this is resource intensive. Lastly, the longer the text you analyze the more likely you are to get an accurate sentiment rating on the content of the document simply because more sentences will have an accurate sentiment associated with them. In other words, if you analyze a large enough document,  you can get a good sense of the sentiment in that document. If you are not careful, however, you can misintrepret the sentiment when cynism, sacrasm, etc., are heavily present in the text. "
   ]
  },
  {
   "cell_type": "markdown",
   "metadata": {},
   "source": [
    "# Conclusion"
   ]
  },
  {
   "cell_type": "markdown",
   "metadata": {},
   "source": [
    "This project provided various examples of how one can use sentiment analysis. The content of the text one wishes to analyze can essentially be of any type. From blogs to books to articles, the reader has a considerable amount of liberty on choosing the content on which they wish to conduct a sentiment analysis. Just be careful with you interpretation of the analysis as the last section mentioned."
   ]
  }
 ],
 "metadata": {
  "kernelspec": {
   "display_name": "R",
   "language": "R",
   "name": "ir"
  },
  "language_info": {
   "codemirror_mode": "r",
   "file_extension": ".r",
   "mimetype": "text/x-r-source",
   "name": "R",
   "pygments_lexer": "r",
   "version": "3.6.2"
  }
 },
 "nbformat": 4,
 "nbformat_minor": 2
}
